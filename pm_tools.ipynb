{
 "cells": [
  {
   "cell_type": "code",
   "execution_count": 11,
   "id": "moving-heritage",
   "metadata": {},
   "outputs": [],
   "source": [
    "# -*- coding: utf-8 -*-\n",
    "\"\"\"\n",
    "This is a script file for calculating the most\n",
    "popular project management metrics.\n",
    "\"\"\"\n",
    "import math\n",
    "\n",
    "# Add general Class\n",
    "\n",
    "class Metrics:\n",
    "    \"\"\"\n",
    "    Metrics class for calculating the main project management\n",
    "    functions.\n",
    "    \n",
    "    Attributes:\n",
    "        ppc (float) = planned percent completed \n",
    "        budget (int) = the budget of the project in int\n",
    "        apc (float) = actual percent completed of the project\n",
    "        ac (int)= actual cost of the project \n",
    "    \n",
    "    \"\"\"\n",
    "    \n",
    "    def __init__(self, ppc, budget, apc, ac):\n",
    "        self.ppc = ppc\n",
    "        self.budget = budget\n",
    "        self.apc = apc\n",
    "        self.ac = ac\n",
    "    \n",
    "# create one example object per milestone\n",
    "\n",
    "# calculate the respective function"
   ]
  },
  {
   "cell_type": "code",
   "execution_count": 18,
   "id": "geological-fiction",
   "metadata": {},
   "outputs": [],
   "source": [
    "class Calculations(Metrics):\n",
    "    \n",
    "    def __init__(self, ppc, budget, apc, ac):\n",
    "        \n",
    "        Metrics.__init__(self, ppc, budget, apc, ac)\n",
    "\n",
    "# planned_value = planned % complete * budget\n",
    "    def planned_value(self):\n",
    "        \n",
    "        return self.ppc * self.budget\n",
    "    \n",
    "# earned_value = actual % complete * budget\n",
    "    def earned_value(self):\n",
    "       \n",
    "        return self.ac * self.budget\n",
    "       \n",
    "# schedule_variance = earned_value - planned_value\n",
    "    def schedule_variance(self):\n",
    "       \n",
    "        ev = self.ac * self.budget\n",
    "        pv = self.ppc * self.budget\n",
    "       \n",
    "        return ev - pv\n",
    "           \n",
    "# cost_variance = earned_value - actual cost\n",
    "    def cost_variance(self):\n",
    "        \n",
    "        ev = self.ac * self.budget\n",
    "        \n",
    "        return ev - self.ac\n",
    "        \n",
    "# schedule_perf_index = earned_value / planned_value\n",
    "    def schedule_perf_index(self):\n",
    "        \n",
    "        ev = self.ac * self.budget\n",
    "        pv = self.ppc * self.budget\n",
    "        \n",
    "        return ev / pv\n",
    "    \n",
    "# cost_perf_index = earned_value / actual cost\n",
    "    def cost_perf_index(self):\n",
    "        \n",
    "        ev = self.ac * self.budget\n",
    "        \n",
    "        return ev / self.ac"
   ]
  },
  {
   "cell_type": "code",
   "execution_count": 20,
   "id": "numerical-concept",
   "metadata": {},
   "outputs": [],
   "source": [
    "test1 = Calculations(0.5, 100, 0.4, 50)"
   ]
  },
  {
   "cell_type": "code",
   "execution_count": 27,
   "id": "basic-organic",
   "metadata": {
    "scrolled": true
   },
   "outputs": [
    {
     "data": {
      "text/plain": [
       "50.0"
      ]
     },
     "execution_count": 27,
     "metadata": {},
     "output_type": "execute_result"
    }
   ],
   "source": [
    "test1.planned_value()\n",
    "# test result = 50"
   ]
  },
  {
   "cell_type": "code",
   "execution_count": 28,
   "id": "acting-standing",
   "metadata": {},
   "outputs": [
    {
     "data": {
      "text/plain": [
       "5000"
      ]
     },
     "execution_count": 28,
     "metadata": {},
     "output_type": "execute_result"
    }
   ],
   "source": [
    "test1.earned_value()\n",
    "# test result = 5000"
   ]
  },
  {
   "cell_type": "code",
   "execution_count": 29,
   "id": "ordinary-protection",
   "metadata": {},
   "outputs": [
    {
     "data": {
      "text/plain": [
       "4950.0"
      ]
     },
     "execution_count": 29,
     "metadata": {},
     "output_type": "execute_result"
    }
   ],
   "source": [
    "test1.schedule_variance()\n",
    "# test result = 4950"
   ]
  },
  {
   "cell_type": "code",
   "execution_count": 24,
   "id": "accepting-crisis",
   "metadata": {},
   "outputs": [
    {
     "data": {
      "text/plain": [
       "4950"
      ]
     },
     "execution_count": 24,
     "metadata": {},
     "output_type": "execute_result"
    }
   ],
   "source": [
    "test1.cost_variance()"
   ]
  },
  {
   "cell_type": "code",
   "execution_count": 25,
   "id": "severe-airfare",
   "metadata": {},
   "outputs": [
    {
     "data": {
      "text/plain": [
       "100.0"
      ]
     },
     "execution_count": 25,
     "metadata": {},
     "output_type": "execute_result"
    }
   ],
   "source": [
    "test1.schedule_perf_index()"
   ]
  },
  {
   "cell_type": "code",
   "execution_count": 26,
   "id": "acute-electronics",
   "metadata": {},
   "outputs": [
    {
     "data": {
      "text/plain": [
       "100.0"
      ]
     },
     "execution_count": 26,
     "metadata": {},
     "output_type": "execute_result"
    }
   ],
   "source": [
    "test1.cost_perf_index()"
   ]
  },
  {
   "cell_type": "code",
   "execution_count": null,
   "id": "surrounded-probability",
   "metadata": {},
   "outputs": [],
   "source": []
  }
 ],
 "metadata": {
  "kernelspec": {
   "display_name": "Python 3",
   "language": "python",
   "name": "python3"
  },
  "language_info": {
   "codemirror_mode": {
    "name": "ipython",
    "version": 3
   },
   "file_extension": ".py",
   "mimetype": "text/x-python",
   "name": "python",
   "nbconvert_exporter": "python",
   "pygments_lexer": "ipython3",
   "version": "3.7.9"
  }
 },
 "nbformat": 4,
 "nbformat_minor": 5
}
