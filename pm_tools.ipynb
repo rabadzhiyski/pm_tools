{
 "cells": [
  {
   "cell_type": "code",
   "execution_count": 1,
   "id": "capital-length",
   "metadata": {},
   "outputs": [],
   "source": [
    "\"\"\"\n",
    "This is a script file for getting the inputs for the\n",
    "project management metrics.\n",
    "\n",
    "\"\"\"\n",
    "\n",
    "# general class\n",
    "\n",
    "class Inputs:\n",
    "    \"\"\"\n",
    "    Inputs class for getting the measures for the main project management\n",
    "    functions.\n",
    "    \n",
    "    Attributes:\n",
    "        ppc (float) = planned percent completed \n",
    "        budget (int) = the budget of the project in int\n",
    "        apc (float) = actual percent completed of the project\n",
    "        ac (int)= actual cost of the project \n",
    "    \n",
    "    \"\"\"\n",
    "    \n",
    "    def __init__(self, ppc, budget, apc, ac):\n",
    "        self.ppc = ppc\n",
    "        self.budget = budget\n",
    "        self.apc = apc\n",
    "        self.ac = ac"
   ]
  },
  {
   "cell_type": "code",
   "execution_count": 30,
   "id": "comparable-danish",
   "metadata": {},
   "outputs": [],
   "source": [
    "\"\"\"\n",
    "This is a script file for calculating the most\n",
    "popular project management metrics.\n",
    "\n",
    "\"\"\"\n",
    "\n",
    "class Metrics(Inputs):\n",
    "    \n",
    "    \"\"\"\n",
    "    Metrics class for calculating the measures for the main project management\n",
    "    functions.\n",
    "    \n",
    "    Attributes:\n",
    "        ppc (float) = planned percent completed \n",
    "        budget (int) = the budget of the project in int\n",
    "        apc (float) = actual percent completed of the project\n",
    "        ac (int)= actual cost of the project \n",
    "    \n",
    "    \"\"\"\n",
    "    \n",
    "    def __init__(self, ppc, budget, apc, ac):\n",
    "        \n",
    "        Inputs.__init__(self, ppc, budget, apc, ac)\n",
    "\n",
    "# planned_value = planned % complete * budget\n",
    "    def planned_value(self):\n",
    "        \n",
    "        \"\"\"\n",
    "        Function to calculate planned value.\n",
    "                \n",
    "        Args:\n",
    "            None\n",
    "        \n",
    "        Returns:\n",
    "            int: planned_value = planned % complete * budget\n",
    "            \n",
    "        \"\"\"\n",
    "        \n",
    "        return self.ppc * self.budget\n",
    "    \n",
    "# earned_value = actual % complete * budget\n",
    "    def earned_value(self):\n",
    "        \n",
    "        \"\"\"\n",
    "        Function to calculate earned value.\n",
    "                \n",
    "        Args:\n",
    "            None\n",
    "        \n",
    "        Returns:\n",
    "            int: earned_value = actual % complete * budget\n",
    "            \n",
    "        \"\"\" \n",
    "       \n",
    "        return self.apc * self.budget\n",
    "       \n",
    "# schedule_variance = earned_value - planned_value\n",
    "    def schedule_variance(self):\n",
    "        \n",
    "        \"\"\"\n",
    "        Function to calculate schedule variance.\n",
    "                \n",
    "        Args:\n",
    "            None\n",
    "        \n",
    "        Returns:\n",
    "            int: earned value - planned value\n",
    "            \n",
    "        \"\"\"\n",
    "       \n",
    "        ev = self.apc * self.budget\n",
    "        pv = self.ppc * self.budget\n",
    "       \n",
    "        return ev - pv\n",
    "           \n",
    "# cost_variance = earned_value - actual cost\n",
    "    def cost_variance(self):\n",
    "        \n",
    "        \"\"\"\n",
    "        Function to calculate cost variance.\n",
    "                \n",
    "        Args:\n",
    "            None\n",
    "        \n",
    "        Returns:\n",
    "            int: earned value - actual cost\n",
    "            \n",
    "        \"\"\"\n",
    "        \n",
    "        ev = self.apc * self.budget\n",
    "        \n",
    "        return ev - self.ac\n",
    "        \n",
    "# schedule_perf_index = earned_value / planned_value\n",
    "    def schedule_perf_index(self):\n",
    "        \n",
    "        \"\"\"\n",
    "        Function to calculate schedule performance index.\n",
    "                \n",
    "        Args:\n",
    "            None\n",
    "        \n",
    "        Returns:\n",
    "            int: earned value / planned value\n",
    "            \n",
    "        \"\"\"\n",
    "        \n",
    "        ev = self.apc * self.budget\n",
    "        pv = self.ppc * self.budget\n",
    "        \n",
    "        return ev / pv\n",
    "    \n",
    "# cost_perf_index = earned_value / actual cost\n",
    "    def cost_perf_index(self):\n",
    "        \n",
    "        \"\"\"\n",
    "        Function to calculate cost performance index.\n",
    "                \n",
    "        Args:\n",
    "            None\n",
    "        \n",
    "        Returns:\n",
    "            int: earned value - actual cost\n",
    "            \n",
    "        \"\"\"\n",
    "        \n",
    "        ev = self.apc * self.budget\n",
    "        \n",
    "        return ev / self.ac"
   ]
  },
  {
   "cell_type": "code",
   "execution_count": 31,
   "id": "sophisticated-pizza",
   "metadata": {},
   "outputs": [],
   "source": [
    "# add planned percent complete, budget, actual percent complete, actual cost.\n",
    "milestone_1 = Metrics(0.5, 100000, 0.4, 20000)"
   ]
  },
  {
   "cell_type": "code",
   "execution_count": 32,
   "id": "adjustable-contractor",
   "metadata": {
    "scrolled": true
   },
   "outputs": [
    {
     "data": {
      "text/plain": [
       "50000.0"
      ]
     },
     "execution_count": 32,
     "metadata": {},
     "output_type": "execute_result"
    }
   ],
   "source": [
    "milestone_1.planned_value()"
   ]
  },
  {
   "cell_type": "code",
   "execution_count": 33,
   "id": "bored-provision",
   "metadata": {},
   "outputs": [
    {
     "data": {
      "text/plain": [
       "40000.0"
      ]
     },
     "execution_count": 33,
     "metadata": {},
     "output_type": "execute_result"
    }
   ],
   "source": [
    "milestone_1.earned_value()"
   ]
  },
  {
   "cell_type": "code",
   "execution_count": 34,
   "id": "acknowledged-karaoke",
   "metadata": {},
   "outputs": [
    {
     "data": {
      "text/plain": [
       "-10000.0"
      ]
     },
     "execution_count": 34,
     "metadata": {},
     "output_type": "execute_result"
    }
   ],
   "source": [
    "milestone_1.schedule_variance()"
   ]
  },
  {
   "cell_type": "code",
   "execution_count": 35,
   "id": "extra-underwear",
   "metadata": {},
   "outputs": [
    {
     "data": {
      "text/plain": [
       "20000.0"
      ]
     },
     "execution_count": 35,
     "metadata": {},
     "output_type": "execute_result"
    }
   ],
   "source": [
    "milestone_1.cost_variance()"
   ]
  },
  {
   "cell_type": "code",
   "execution_count": 36,
   "id": "descending-peeing",
   "metadata": {},
   "outputs": [
    {
     "data": {
      "text/plain": [
       "0.8"
      ]
     },
     "execution_count": 36,
     "metadata": {},
     "output_type": "execute_result"
    }
   ],
   "source": [
    "milestone_1.schedule_perf_index()"
   ]
  },
  {
   "cell_type": "code",
   "execution_count": 37,
   "id": "acknowledged-precipitation",
   "metadata": {},
   "outputs": [
    {
     "data": {
      "text/plain": [
       "2.0"
      ]
     },
     "execution_count": 37,
     "metadata": {},
     "output_type": "execute_result"
    }
   ],
   "source": [
    "milestone_1.cost_perf_index()"
   ]
  },
  {
   "cell_type": "code",
   "execution_count": null,
   "id": "hearing-baghdad",
   "metadata": {},
   "outputs": [],
   "source": []
  }
 ],
 "metadata": {
  "kernelspec": {
   "display_name": "Python 3",
   "language": "python",
   "name": "python3"
  },
  "language_info": {
   "codemirror_mode": {
    "name": "ipython",
    "version": 3
   },
   "file_extension": ".py",
   "mimetype": "text/x-python",
   "name": "python",
   "nbconvert_exporter": "python",
   "pygments_lexer": "ipython3",
   "version": "3.7.9"
  }
 },
 "nbformat": 4,
 "nbformat_minor": 5
}
