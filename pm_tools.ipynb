{
 "cells": [
  {
   "cell_type": "markdown",
   "id": "proud-milwaukee",
   "metadata": {},
   "source": [
    "# Project Management Metrics"
   ]
  },
  {
   "cell_type": "markdown",
   "id": "portuguese-giving",
   "metadata": {},
   "source": [
    "The script calculates the most popular metrics in traditional/predictive project management (aka \"Waterfall\"). All you need to do is to run it and after that call \"Metrics\" with the respective inputs: **planned percent complete, budget, actual percent complete, actual cost.** "
   ]
  },
  {
   "cell_type": "markdown",
   "id": "joint-coordination",
   "metadata": {},
   "source": [
    "### A few hints how to read the metrics/results:\n",
    "\n",
    "- **Planned Value** - a measure of the estimated cost of planned activities at any given time.\n",
    "- **Earned Value** - gives the actual value. It is based on the work already done, not the work you should have done in the project. Comparing Earned Value with Planned Value gives a quick estimate of whether you’re behind or ahead of schedule.\n",
    "- **Actual Cost** - a measure of the actual expenses incurred in completing all of the work done to date. Actual Cost gives a broad understanding of project expenses.\n",
    "- **Schedule Variance** - tells if the project is ahead or behind schedule. If SV > 0, it means that more value than planned is earned (ahead of schedule). If SV < 0, it means the project is behind schedule, and if it is 0, it means that project is on time.\n",
    "- **Cost Variance** - tells whether the project is on budget(CV = 0), over (CV < 0), or under-budget (CV > 0).\n",
    "- **Schedule Performance Index** - related to Schedule Variance. Whether the project is following its schedule but expressed as a ratio, not as an absolute figure. SPI > 1 (ahead of scheudle), SPI < 1 (behind schedule), SPI = 1 (on time).\n",
    "- **Cost Performance Index** - related to Cost Variance. Whether the project is on budget but expressed as a ratio, not as an absolute figure. CPI > 1 (under budget), CPI < 1 (over budget), CPI = 1 (on budget)."
   ]
  },
  {
   "cell_type": "markdown",
   "id": "comparative-montana",
   "metadata": {},
   "source": [
    "### General class for inputs"
   ]
  },
  {
   "cell_type": "code",
   "execution_count": 1,
   "id": "included-revision",
   "metadata": {},
   "outputs": [],
   "source": [
    "\"\"\"\n",
    "This is a script file for getting the inputs for the\n",
    "project management metrics.\n",
    "\n",
    "\"\"\"\n",
    "\n",
    "# general class\n",
    "\n",
    "class Inputs:\n",
    "    \"\"\"\n",
    "    Inputs class for getting the measures for the main project management\n",
    "    functions.\n",
    "    \n",
    "    Attributes:\n",
    "        ppc (float) = planned percent completed \n",
    "        budget (int) = the budget of the project\n",
    "        apc (float) = actual percent completed of the project\n",
    "        ac (int)= actual cost of the project at a given point of time\n",
    "    \n",
    "    \"\"\"\n",
    "    \n",
    "    def __init__(self, ppc, budget, apc, ac):\n",
    "        self.ppc = ppc\n",
    "        self.budget = budget\n",
    "        self.apc = apc\n",
    "        self.ac = ac"
   ]
  },
  {
   "cell_type": "markdown",
   "id": "surprised-vermont",
   "metadata": {},
   "source": [
    "### Metrics class for calulcations"
   ]
  },
  {
   "cell_type": "code",
   "execution_count": 30,
   "id": "applied-boxing",
   "metadata": {},
   "outputs": [],
   "source": [
    "\"\"\"\n",
    "This is a script file for calculating the most\n",
    "popular project management metrics.\n",
    "\n",
    "\"\"\"\n",
    "\n",
    "class Metrics(Inputs):\n",
    "    \n",
    "    \"\"\"\n",
    "    Metrics class for calculating the measures for the main project management\n",
    "    functions.\n",
    "    \n",
    "    Attributes:\n",
    "        ppc (float) = planned percent completed \n",
    "        budget (int) = the budget of the project in int\n",
    "        apc (float) = actual percent completed of the project\n",
    "        ac (int)= actual cost of the project \n",
    "    \n",
    "    \"\"\"\n",
    "    \n",
    "    def __init__(self, ppc, budget, apc, ac):\n",
    "        \n",
    "        Inputs.__init__(self, ppc, budget, apc, ac)\n",
    "\n",
    "# planned_value = planned % complete * budget\n",
    "    def planned_value(self):\n",
    "        \n",
    "        \"\"\"\n",
    "        Function to calculate planned value.\n",
    "                \n",
    "        Args:\n",
    "            None\n",
    "        \n",
    "        Returns:\n",
    "            int: planned_value = planned % complete * budget\n",
    "            \n",
    "        \"\"\"\n",
    "        \n",
    "        return self.ppc * self.budget\n",
    "    \n",
    "# earned_value = actual % complete * budget\n",
    "    def earned_value(self):\n",
    "        \n",
    "        \"\"\"\n",
    "        Function to calculate earned value.\n",
    "                \n",
    "        Args:\n",
    "            None\n",
    "        \n",
    "        Returns:\n",
    "            int: earned_value = actual % complete * budget\n",
    "            \n",
    "        \"\"\" \n",
    "       \n",
    "        return self.apc * self.budget\n",
    "       \n",
    "# schedule_variance = earned_value - planned_value\n",
    "    def schedule_variance(self):\n",
    "        \n",
    "        \"\"\"\n",
    "        Function to calculate schedule variance.\n",
    "                \n",
    "        Args:\n",
    "            None\n",
    "        \n",
    "        Returns:\n",
    "            int: earned value - planned value\n",
    "            \n",
    "        \"\"\"\n",
    "       \n",
    "        ev = self.apc * self.budget\n",
    "        pv = self.ppc * self.budget\n",
    "       \n",
    "        return ev - pv\n",
    "           \n",
    "# cost_variance = earned_value - actual cost\n",
    "    def cost_variance(self):\n",
    "        \n",
    "        \"\"\"\n",
    "        Function to calculate cost variance.\n",
    "                \n",
    "        Args:\n",
    "            None\n",
    "        \n",
    "        Returns:\n",
    "            int: earned value - actual cost\n",
    "            \n",
    "        \"\"\"\n",
    "        \n",
    "        ev = self.apc * self.budget\n",
    "        \n",
    "        return ev - self.ac\n",
    "        \n",
    "# schedule_perf_index = earned_value / planned_value\n",
    "    def schedule_perf_index(self):\n",
    "        \n",
    "        \"\"\"\n",
    "        Function to calculate schedule performance index.\n",
    "                \n",
    "        Args:\n",
    "            None\n",
    "        \n",
    "        Returns:\n",
    "            int: earned value / planned value\n",
    "            \n",
    "        \"\"\"\n",
    "        \n",
    "        ev = self.apc * self.budget\n",
    "        pv = self.ppc * self.budget\n",
    "        \n",
    "        return ev / pv\n",
    "    \n",
    "# cost_perf_index = earned_value / actual cost\n",
    "    def cost_perf_index(self):\n",
    "        \n",
    "        \"\"\"\n",
    "        Function to calculate cost performance index.\n",
    "                \n",
    "        Args:\n",
    "            None\n",
    "        \n",
    "        Returns:\n",
    "            int: earned value - actual cost\n",
    "            \n",
    "        \"\"\"\n",
    "        \n",
    "        ev = self.apc * self.budget\n",
    "        \n",
    "        return ev / self.ac"
   ]
  },
  {
   "cell_type": "markdown",
   "id": "foreign-aluminum",
   "metadata": {},
   "source": [
    "## Example"
   ]
  },
  {
   "cell_type": "code",
   "execution_count": 31,
   "id": "seeing-mathematics",
   "metadata": {},
   "outputs": [],
   "source": [
    "# add planned percent complete, budget, actual percent complete, actual cost.\n",
    "milestone_1 = Metrics(0.5, 100000, 0.4, 20000)"
   ]
  },
  {
   "cell_type": "code",
   "execution_count": 32,
   "id": "manual-beach",
   "metadata": {
    "scrolled": true
   },
   "outputs": [
    {
     "data": {
      "text/plain": [
       "50000.0"
      ]
     },
     "execution_count": 32,
     "metadata": {},
     "output_type": "execute_result"
    }
   ],
   "source": [
    "milestone_1.planned_value()"
   ]
  },
  {
   "cell_type": "code",
   "execution_count": 33,
   "id": "featured-triumph",
   "metadata": {},
   "outputs": [
    {
     "data": {
      "text/plain": [
       "40000.0"
      ]
     },
     "execution_count": 33,
     "metadata": {},
     "output_type": "execute_result"
    }
   ],
   "source": [
    "milestone_1.earned_value()"
   ]
  },
  {
   "cell_type": "code",
   "execution_count": 34,
   "id": "regulation-marriage",
   "metadata": {},
   "outputs": [
    {
     "data": {
      "text/plain": [
       "-10000.0"
      ]
     },
     "execution_count": 34,
     "metadata": {},
     "output_type": "execute_result"
    }
   ],
   "source": [
    "milestone_1.schedule_variance()"
   ]
  },
  {
   "cell_type": "code",
   "execution_count": 35,
   "id": "worth-incidence",
   "metadata": {},
   "outputs": [
    {
     "data": {
      "text/plain": [
       "20000.0"
      ]
     },
     "execution_count": 35,
     "metadata": {},
     "output_type": "execute_result"
    }
   ],
   "source": [
    "milestone_1.cost_variance()"
   ]
  },
  {
   "cell_type": "code",
   "execution_count": 36,
   "id": "comfortable-league",
   "metadata": {},
   "outputs": [
    {
     "data": {
      "text/plain": [
       "0.8"
      ]
     },
     "execution_count": 36,
     "metadata": {},
     "output_type": "execute_result"
    }
   ],
   "source": [
    "milestone_1.schedule_perf_index()"
   ]
  },
  {
   "cell_type": "code",
   "execution_count": 37,
   "id": "greatest-avatar",
   "metadata": {},
   "outputs": [
    {
     "data": {
      "text/plain": [
       "2.0"
      ]
     },
     "execution_count": 37,
     "metadata": {},
     "output_type": "execute_result"
    }
   ],
   "source": [
    "milestone_1.cost_perf_index()"
   ]
  },
  {
   "cell_type": "code",
   "execution_count": null,
   "id": "diagnostic-printer",
   "metadata": {},
   "outputs": [],
   "source": []
  }
 ],
 "metadata": {
  "kernelspec": {
   "display_name": "Python 3",
   "language": "python",
   "name": "python3"
  },
  "language_info": {
   "codemirror_mode": {
    "name": "ipython",
    "version": 3
   },
   "file_extension": ".py",
   "mimetype": "text/x-python",
   "name": "python",
   "nbconvert_exporter": "python",
   "pygments_lexer": "ipython3",
   "version": "3.7.9"
  }
 },
 "nbformat": 4,
 "nbformat_minor": 5
}
